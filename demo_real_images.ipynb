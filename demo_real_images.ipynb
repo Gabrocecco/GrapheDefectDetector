{
 "cells": [
  {
   "cell_type": "code",
   "execution_count": 1,
   "metadata": {},
   "outputs": [],
   "source": [
    "from lib_fetaure_analysis import Features\n",
    "from defect_analysis import Test\n",
    "from pathlib import Path\n",
    "from matplotlib import pyplot as plt\n",
    "from matplotlib import image as mpimg\n",
    "import torch as Torch\n",
    "import pandas as pd\n",
    "import numpy as np\n",
    "import matplotlib as mpl\n",
    "import matplotlib.pyplot as plt\n",
    "from ultralytics import YOLO\n",
    "from lib.lib_utils import Utils \n",
    "import seaborn as sns\n",
    "import seaborn.objects as so"
   ]
  },
  {
   "cell_type": "code",
   "execution_count": null,
   "metadata": {},
   "outputs": [],
   "source": [
    "#prima vo"
   ]
  },
  {
   "cell_type": "code",
   "execution_count": 6,
   "metadata": {},
   "outputs": [
    {
     "name": "stderr",
     "output_type": "stream",
     "text": [
      "\n",
      "image 1/2 /home/gabro/GrapheDetectProject/real_images_demo/real_images/graphene_real_0.png: 640x640 (no detections), 175.0ms\n",
      "image 2/2 /home/gabro/GrapheDetectProject/real_images_demo/real_images/graphene_real_1.png: 608x640 (no detections), 167.3ms\n",
      "Speed: 1.9ms preprocess, 171.1ms inference, 0.4ms postprocess per image at shape (1, 3, 640, 640)\n"
     ]
    }
   ],
   "source": [
    "model = YOLO(\"/home/gabro/GrapheDetectProject/best_100_campioni_new.pt\")  # load a pretrained model (recommended for training)\n",
    "results = model(\"/home/gabro/GrapheDetectProject/real_images_demo/real_images\")  # predict on an image"
   ]
  },
  {
   "cell_type": "code",
   "execution_count": 5,
   "metadata": {},
   "outputs": [
    {
     "name": "stderr",
     "output_type": "stream",
     "text": [
      "\n",
      "image 1/1 /home/gabro/GrapheDetectProject/real_images/graphene_real_0.png: 640x640 (no detections), 179.8ms\n",
      "Speed: 3.0ms preprocess, 179.8ms inference, 0.8ms postprocess per image at shape (1, 3, 640, 640)\n",
      "\n",
      "image 1/1 /home/gabro/GrapheDetectProject/real_images/test_images/graphene_238951_bonds.png: 640x640 1 defect, 176.2ms\n",
      "Speed: 1.2ms preprocess, 176.2ms inference, 1.0ms postprocess per image at shape (1, 3, 640, 640)\n"
     ]
    },
    {
     "ename": "TypeError",
     "evalue": "'NoneType' object is not subscriptable",
     "output_type": "error",
     "traceback": [
      "\u001b[0;31m---------------------------------------------------------------------------\u001b[0m",
      "\u001b[0;31mTypeError\u001b[0m                                 Traceback (most recent call last)",
      "Cell \u001b[0;32mIn[5], line 2\u001b[0m\n\u001b[1;32m      1\u001b[0m \u001b[39m#fa l'inferenza su una cartella di campioni con yolo salvandone le box su un'altra cartella\u001b[39;00m\n\u001b[0;32m----> 2\u001b[0m Utils\u001b[39m.\u001b[39;49mcrop_from_folder(\u001b[39m\"\u001b[39;49m\u001b[39m/home/gabro/GrapheDetectProject/real_images\u001b[39;49m\u001b[39m\"\u001b[39;49m, \u001b[39m\"\u001b[39;49m\u001b[39m/home/gabro/GrapheDetectProject/real_images/results_yolo\u001b[39;49m\u001b[39m\"\u001b[39;49m, model)\n",
      "File \u001b[0;32m~/GrapheDetectProject/lib/lib_utils.py:243\u001b[0m, in \u001b[0;36mUtils.crop_from_folder\u001b[0;34m(cartellaImm, cartellaCrop, model)\u001b[0m\n\u001b[1;32m    238\u001b[0m img \u001b[39m=\u001b[39m cv2\u001b[39m.\u001b[39mimread(pathImm)\n\u001b[1;32m    239\u001b[0m \u001b[39m# print(img.shape) # Print image shape\u001b[39;00m\n\u001b[1;32m    240\u001b[0m \u001b[39m# cv2.imshow(\"original\", img)\u001b[39;00m\n\u001b[1;32m    241\u001b[0m \n\u001b[1;32m    242\u001b[0m \u001b[39m# Cropping an image\u001b[39;00m\n\u001b[0;32m--> 243\u001b[0m cropped_image \u001b[39m=\u001b[39m img[y1:y2, x1:x2] \u001b[39m#img[start_row:end_row, start_col:end_col]\u001b[39;00m\n\u001b[1;32m    245\u001b[0m \u001b[39m# Display cropped image\u001b[39;00m\n\u001b[1;32m    246\u001b[0m \u001b[39m# cv2.imshow(\"cropped\", cropped_image)\u001b[39;00m\n\u001b[1;32m    248\u001b[0m nomeCropped \u001b[39m=\u001b[39m os\u001b[39m.\u001b[39mpath\u001b[39m.\u001b[39mbasename(pathImm)\u001b[39m.\u001b[39mremovesuffix(\u001b[39m'\u001b[39m\u001b[39m.png\u001b[39m\u001b[39m'\u001b[39m) \u001b[39m+\u001b[39m \u001b[39m\"\u001b[39m\u001b[39m_cropped_box_\u001b[39m\u001b[39m\"\u001b[39m \u001b[39m+\u001b[39m \u001b[39mstr\u001b[39m(index)\u001b[39m+\u001b[39m \u001b[39m\"\u001b[39m\u001b[39m.png\u001b[39m\u001b[39m\"\u001b[39m \u001b[39m#creo nome dell'immagine croppata\u001b[39;00m\n",
      "\u001b[0;31mTypeError\u001b[0m: 'NoneType' object is not subscriptable"
     ]
    }
   ],
   "source": [
    "#fa l'inferenza su una cartella di campioni con yolo salvandone le box su un'altra cartella\n",
    "Utils.crop_from_folder(\"/home/gabro/GrapheDetectProject/real_images\", \"/home/gabro/GrapheDetectProject/real_images/results_yolo\", model)"
   ]
  }
 ],
 "metadata": {
  "kernelspec": {
   "display_name": "graphe-env",
   "language": "python",
   "name": "python3"
  },
  "language_info": {
   "codemirror_mode": {
    "name": "ipython",
    "version": 3
   },
   "file_extension": ".py",
   "mimetype": "text/x-python",
   "name": "python",
   "nbconvert_exporter": "python",
   "pygments_lexer": "ipython3",
   "version": "3.11.3"
  },
  "orig_nbformat": 4
 },
 "nbformat": 4,
 "nbformat_minor": 2
}

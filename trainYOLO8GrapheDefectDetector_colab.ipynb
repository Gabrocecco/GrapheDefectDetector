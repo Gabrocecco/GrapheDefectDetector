{
 "cells": [
  {
   "cell_type": "code",
   "execution_count": 2,
   "metadata": {},
   "outputs": [],
   "source": [
    "from ultralytics import YOLO\n",
    "from lib.lib_utils import Utils \n",
    "from pathlib import Path\n",
    "from matplotlib import pyplot as plt\n",
    "from matplotlib import image as mpimg\n",
    "import cv2"
   ]
  },
  {
   "cell_type": "code",
   "execution_count": null,
   "metadata": {},
   "outputs": [],
   "source": [
    "#trasformazione .xyz to .png \n",
    "Utils.from_xyz_to_png(\n",
    "    Path('/home/gabro/GrapheDetectProject/data.xyz/subset_xyz'), \n",
    "    Path('/home/gabro/GrapheDetectProject/dataset_imm_300'), \n",
    "    100)\n"
   ]
  },
  {
   "cell_type": "code",
   "execution_count": null,
   "metadata": {},
   "outputs": [],
   "source": [
    "#divisione del dataset in train/ test/\n",
    "#inserire percorso dataset da dividere e percentuale del test \n",
    "Utils.split_dataset('/home/gabro/GrapheDetectProject/data_yolo_new/', 0.2)   "
   ]
  },
  {
   "cell_type": "code",
   "execution_count": 3,
   "metadata": {},
   "outputs": [],
   "source": [
    "# Load a model\n",
    "# model = YOLO(\"yolov8n.yaml\")  # build a new model from scratch\n",
    "model = YOLO(\"/home/gabro/GrapheDetectProject/best_100_campioni_new.pt\")  # load a pretrained model (recommended for training)\n"
   ]
  },
  {
   "cell_type": "code",
   "execution_count": null,
   "metadata": {},
   "outputs": [],
   "source": [
    "# Use the model\n",
    "# model.train(data=\"coco128.yaml\", epochs=3)  # train the model\n",
    "model.train(data=\"config_yolov8.yaml\", epochs=100)  # train the model"
   ]
  },
  {
   "cell_type": "code",
   "execution_count": null,
   "metadata": {},
   "outputs": [],
   "source": [
    "metrics = model.val()  # evaluate model performance on the validation set\n",
    "results = model(\"/home/gabro/GrapheDetectProject/b74c9ce2-graphene_218641_bonds.png\")  # predict on an image\n",
    "success = model.export(format=\"onnx\")  # export the model to ONNX format"
   ]
  },
  {
   "cell_type": "code",
   "execution_count": 10,
   "metadata": {},
   "outputs": [
    {
     "name": "stderr",
     "output_type": "stream",
     "text": [
      "\n",
      "image 1/1 /home/gabro/GrapheDetectProject/b74c9ce2-graphene_218641_bonds.png: 640x640 2 defects, 269.0ms\n",
      "Speed: 2.0ms preprocess, 269.0ms inference, 1.3ms postprocess per image at shape (1, 3, 640, 640)\n"
     ]
    },
    {
     "data": {
      "image/png": "[encoded data removed]",
      "text/plain": [
       "<Figure size 640x480 with 1 Axes>"
      ]
     },
     "metadata": {},
     "output_type": "display_data"
    }
   ],
   "source": [
    "results = model(\"/home/gabro/GrapheDetectProject/b74c9ce2-graphene_218641_bonds.png\")  # predict on an image\n",
    "boxes = res[0].boxes\n",
    "\n",
    "boxes[0].xyxy\n",
    "#boxes[1].xywhn\n",
    "\n",
    "res_plotted = results[0].plot(labels = False, line_width = 1)\n",
    "plt.imshow(res_plotted)\n",
    "plt.show()\n"
   ]
  }
 ],
 "metadata": {
  "kernelspec": {
   "display_name": "graphe-env",
   "language": "python",
   "name": "python3"
  },
  "language_info": {
   "codemirror_mode": {
    "name": "ipython",
    "version": 3
   },
   "file_extension": ".py",
   "mimetype": "text/x-python",
   "name": "python",
   "nbconvert_exporter": "python",
   "pygments_lexer": "ipython3",
   "version": "3.11.3"
  },
  "orig_nbformat": 4
 },
 "nbformat": 4,
 "nbformat_minor": 2
}

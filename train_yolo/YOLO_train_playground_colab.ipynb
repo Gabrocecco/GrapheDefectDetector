{
 "cells": [
  {
   "cell_type": "code",
   "execution_count": null,
   "metadata": {},
   "outputs": [],
   "source": [
    "from google.colab import drive\n",
    "from matplotlib import pyplot as plt\n",
    "from matplotlib import image as mpimg\n",
    "\n",
    "drive.mount('/content/gdrive')"
   ]
  },
  {
   "cell_type": "code",
   "execution_count": null,
   "metadata": {},
   "outputs": [],
   "source": [
    "ROOT_DIR = '/content/gdrive/MyDrive/Materiale tirocinio Gabriele/GrapheDefectDetector/'"
   ]
  },
  {
   "cell_type": "code",
   "execution_count": null,
   "metadata": {},
   "outputs": [],
   "source": [
    "!pip install ultralytics"
   ]
  },
  {
   "cell_type": "code",
   "execution_count": null,
   "metadata": {},
   "outputs": [],
   "source": [
    "import os\n",
    "\n",
    "from ultralytics import YOLO\n",
    "\n",
    "\n",
    "# Load a model\n",
    "model = YOLO(\"yolov8n.yaml\")  # build a new model from scratch\n",
    "\n",
    "# Use the model\n",
    "results = model.train(data=os.path.join(ROOT_DIR, \"google_colab_config.yaml\"), epochs=100)  # train the model"
   ]
  },
  {
   "cell_type": "code",
   "execution_count": null,
   "metadata": {},
   "outputs": [],
   "source": [
    "# files = [f for f in os.listdir('.') if os.path.isfile(f)]\n",
    "# for f in files:\n",
    "#   imm = mpimg.imread(f)\n",
    "#   plt.imshow(imm)\n",
    "#   plt.show()\n",
    "  \n",
    "plt.title(\"Label: 0 \")\n",
    "val_batch0_labels = mpimg.imread(\"/content/runs/detect/train2/val_batch0_labels.jpg\")\n",
    "plt.imshow(val_batch0_labels)\n",
    "plt.show()\n",
    "plt.title(\"Pred: 0 \")\n",
    "val_batch0_pred = mpimg.imread(\"/content/runs/detect/train2/val_batch0_pred.jpg\")\n",
    "plt.imshow(val_batch0_pred)\n",
    "plt.show()\n",
    "\n",
    "plt.title(\"Label: 1 \")\n",
    "val_batch1_labels = mpimg.imread(\"/content/runs/detect/train2/val_batch1_labels.jpg\")\n",
    "plt.imshow(val_batch1_labels)\n",
    "plt.show()\n",
    "plt.title(\"Pred: 1 \")\n",
    "val_batch1_pred = mpimg.imread(\"/content/runs/detect/train2/val_batch1_pred.jpg\")\n",
    "plt.imshow(val_batch1_pred)\n",
    "plt.show()\n",
    "\n",
    "plt.title(\"Label: 2 \")\n",
    "val_batch2_labels = mpimg.imread(\"/content/runs/detect/train2/val_batch2_labels.jpg\")\n",
    "plt.imshow(val_batch2_labels)\n",
    "plt.show()\n",
    "plt.title(\"Pred: 2 \")\n",
    "val_batch2_pred = mpimg.imread(\"/content/runs/detect/train2/val_batch2_pred.jpg\")\n",
    "plt.imshow(val_batch2_pred)\n",
    "plt.show()"
   ]
  }
 ],
 "metadata": {
  "kernelspec": {
   "display_name": "graphe-env",
   "language": "python",
   "name": "python3"
  },
  "language_info": {
   "codemirror_mode": {
    "name": "ipython",
    "version": 3
   },
   "file_extension": ".py",
   "mimetype": "text/x-python",
   "name": "python",
   "nbconvert_exporter": "python",
   "pygments_lexer": "ipython3",
   "version": "3.11.3"
  },
  "orig_nbformat": 4
 },
 "nbformat": 4,
 "nbformat_minor": 2
}

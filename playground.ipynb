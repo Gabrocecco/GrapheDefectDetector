{
 "cells": [
  {
   "cell_type": "code",
   "execution_count": 1,
   "metadata": {},
   "outputs": [],
   "source": [
    "%load_ext autoreload\n",
    "%autoreload 2\n",
    "from ultralytics import YOLO\n",
    "from lib.lib_utils import Utils \n",
    "from lib_fetaure_analysis import Features\n",
    "from defect_analysis import Test\n",
    "from pathlib import Path\n",
    "from matplotlib import pyplot as plt\n",
    "from matplotlib import image as mpimg\n",
    "import cv2\n",
    "import torch as Torch\n",
    "import math\n",
    "import os"
   ]
  },
  {
   "cell_type": "code",
   "execution_count": 2,
   "metadata": {},
   "outputs": [
    {
     "name": "stdout",
     "output_type": "stream",
     "text": [
      "generando .png del file graphene_238951.xyz...\n",
      "1\n"
     ]
    }
   ],
   "source": [
    "#trasformazione .xyz to .png \n",
    "Utils.from_xyz_to_png(\n",
    "    Path('/home/gabro/GrapheDetectProject/data.xyz/subset_xyz'), \n",
    "    Path('/home/gabro/GrapheDetectProject/'), \n",
    "    1)"
   ]
  },
  {
   "cell_type": "code",
   "execution_count": null,
   "metadata": {},
   "outputs": [],
   "source": [
    "#divisione del dataset in train/ test/\n",
    "#inserire percorso dataset da dividere e percentuale del test \n",
    "Utils.split_dataset('/home/gabro/GrapheDetectProject/data_yolo_new/', 0.2)   "
   ]
  },
  {
   "cell_type": "code",
   "execution_count": 2,
   "metadata": {},
   "outputs": [],
   "source": [
    "# Load a model\n",
    "# model = YOLO(\"yolov8n.yaml\")  # build a new model from scratch\n",
    "model = YOLO(\"/home/gabro/GrapheDetectProject/best_100_campioni_new.pt\")  # load a pretrained model (recommended for training)\n"
   ]
  },
  {
   "cell_type": "code",
   "execution_count": null,
   "metadata": {},
   "outputs": [],
   "source": [
    "# Use the model\n",
    "# model.train(data=\"coco128.yaml\", epochs=3)  # train the model\n",
    "model.train(data=\"config_yolov8.yaml\", epochs=100)  # train the model"
   ]
  },
  {
   "cell_type": "code",
   "execution_count": null,
   "metadata": {},
   "outputs": [],
   "source": [
    "metrics = model.val()  # evaluate model performance on the validation set\n",
    "results = model(\"/home/gabro/GrapheDetectProject/b74c9ce2-graphene_218641_bonds.png\")  # predict on an image\n",
    "success = model.export(format=\"onnx\")  # export the model to ONNX format"
   ]
  },
  {
   "cell_type": "code",
   "execution_count": null,
   "metadata": {},
   "outputs": [],
   "source": [
    "#fa l'inferenza su una cartella di campioni con yolo salvandone le box su un'altra cartella\n",
    "Utils.crop_from_folder(\"/home/gabro/GrapheDetectProject/immProvaInferenza\", \"/home/gabro/GrapheDetectProject/cartellaCrop\", model)"
   ]
  },
  {
   "cell_type": "code",
   "execution_count": 2,
   "metadata": {},
   "outputs": [],
   "source": [
    "#per ogni crop in carttelaCrop/ ne produce una copia su cartellaTrash/ in cui ne si enfatizza l'area\n",
    "Utils.from_crops_to_thresh('/home/gabro/GrapheDetectProject/cartellaCrop/', '/home/gabro/GrapheDetectProject/cartellaTrash')"
   ]
  },
  {
   "cell_type": "code",
   "execution_count": 2,
   "metadata": {},
   "outputs": [
    {
     "name": "stdout",
     "output_type": "stream",
     "text": [
      "Shape features:\n",
      "nome_imm  :  /home/gabro/GrapheDetectProject/cartellaTrash/2d81c496-graphene_122634_bonds_cropped_box_0_thresh_.png\n",
      "area_div_px  :  0.4826216484607746\n",
      "area_px  :  1458.0\n",
      "num_pixels  :  3021\n",
      "number_of_contours  :  1\n",
      "perimeter_px  :  186.0493106842041\n",
      "circularity  :  0.5293114118788803\n",
      "solidity  :  121.5\n",
      "compactness  :  0.007858648810422949\n",
      "feret_diameter  :  0.9422460341087125\n",
      "eccentricity  :  0.5645045142899838\n",
      "\n",
      "Shape features:\n",
      "nome_imm  :  /home/gabro/GrapheDetectProject/cartellaTrash/2f01675e-graphene_231617_bonds_cropped_box_0_thresh_.png\n",
      "area_div_px  :  0.4588815789473684\n",
      "area_px  :  558.0\n",
      "num_pixels  :  1216\n",
      "number_of_contours  :  1\n",
      "perimeter_px  :  107.38857507705688\n",
      "circularity  :  0.6080340539095493\n",
      "solidity  :  37.2\n",
      "compactness  :  0.016996065095442905\n",
      "feret_diameter  :  0.8748915979733232\n",
      "eccentricity  :  0.574959598839383\n",
      "\n",
      "Shape features:\n",
      "nome_imm  :  /home/gabro/GrapheDetectProject/cartellaTrash/2d81c496-graphene_122634_bonds_cropped_box_1_thresh_.png\n",
      "area_div_px  :  0.5572916666666666\n",
      "area_px  :  1444.5\n",
      "num_pixels  :  2592\n",
      "number_of_contours  :  1\n",
      "perimeter_px  :  198.08448791503906\n",
      "circularity  :  0.46262220691271566\n",
      "solidity  :  160.5\n",
      "compactness  :  0.010479688909551357\n",
      "feret_diameter  :  1.0410183167468616\n",
      "eccentricity  :  0.5846012598048931\n",
      "\n",
      "Shape features:\n",
      "nome_imm  :  /home/gabro/GrapheDetectProject/cartellaTrash/0a5c3409-graphene_301236_bonds_cropped_box_0_thresh_ROTTA.png\n",
      "area_div_px  :  0.24553571428571427\n",
      "area_px  :  55.0\n",
      "num_pixels  :  224\n",
      "number_of_contours  :  1\n",
      "perimeter_px  :  33.82591128349304\n",
      "circularity  :  0.6040509094486914\n",
      "solidity  :  7.857142857142857\n",
      "compactness  :  0.0928727495258719\n",
      "feret_diameter  :  0.8561031529635983\n",
      "eccentricity  :  0.8440706977521848\n",
      "\n",
      "Shape features:\n",
      "nome_imm  :  /home/gabro/GrapheDetectProject/cartellaTrash/0a288a23-graphene_227444_bonds_cropped_box_0_thresh_.png\n",
      "area_div_px  :  0.35833333333333334\n",
      "area_px  :  258.0\n",
      "num_pixels  :  720\n",
      "number_of_contours  :  1\n",
      "perimeter_px  :  64.40733861923218\n",
      "circularity  :  0.7815537693198876\n",
      "solidity  :  28.666666666666668\n",
      "compactness  :  0.022331531373882624\n",
      "feret_diameter  :  0.8043152426215325\n",
      "eccentricity  :  0.6646818989156568\n",
      "\n",
      "Shape features:\n",
      "nome_imm  :  /home/gabro/GrapheDetectProject/cartellaTrash/0a288a23-graphene_227444_bonds_cropped_box_1_thresh_.png\n",
      "area_div_px  :  0.3256172839506173\n",
      "area_px  :  105.5\n",
      "num_pixels  :  324\n",
      "number_of_contours  :  1\n",
      "perimeter_px  :  46.50094270706177\n",
      "circularity  :  0.6131105777725017\n",
      "solidity  :  15.071428571428571\n",
      "compactness  :  0.06325954223408346\n",
      "feret_diameter  :  0.8577505217658149\n",
      "eccentricity  :  0.684969795503363\n",
      "\n",
      "Shape features:\n",
      "nome_imm  :  /home/gabro/GrapheDetectProject/cartellaTrash/0e9ff1ff-graphene_176095_bonds_cropped_box_1_thresh_.png\n",
      "area_div_px  :  0.47874493927125505\n",
      "area_px  :  709.5\n",
      "num_pixels  :  1482\n",
      "number_of_contours  :  1\n",
      "perimeter_px  :  108.97599983215332\n",
      "circularity  :  0.7507589863590559\n",
      "solidity  :  64.5\n",
      "compactness  :  0.011294346857538266\n",
      "feret_diameter  :  0.8341250697412853\n",
      "eccentricity  :  0.22557047650005202\n",
      "\n",
      "Shape features:\n",
      "nome_imm  :  /home/gabro/GrapheDetectProject/cartellaTrash/2c60508d-graphene_312780_bonds_cropped_box_0_thresh_.png\n",
      "area_div_px  :  0.5151515151515151\n",
      "area_px  :  578.0\n",
      "num_pixels  :  1122\n",
      "number_of_contours  :  1\n",
      "perimeter_px  :  100.66161274909973\n",
      "circularity  :  0.71681970297276\n",
      "solidity  :  72.25\n",
      "compactness  :  0.0156245339841264\n",
      "feret_diameter  :  0.8978438049046568\n",
      "eccentricity  :  0.33123479215716334\n",
      "\n",
      "Shape features:\n",
      "nome_imm  :  /home/gabro/GrapheDetectProject/cartellaTrash/0e9ff1ff-graphene_176095_bonds_cropped_box_0_thresh_.png\n",
      "area_div_px  :  0.21428571428571427\n",
      "area_px  :  42.0\n",
      "num_pixels  :  196\n",
      "number_of_contours  :  1\n",
      "perimeter_px  :  25.14218235015869\n",
      "circularity  :  0.8349360454827988\n",
      "solidity  :  7.0\n",
      "compactness  :  0.07678927761523703\n",
      "feret_diameter  :  0.5571428707667759\n",
      "eccentricity  :  0.3161236444878691\n",
      "\n"
     ]
    }
   ],
   "source": [
    "shapes = Features.from_thresh_to_contours_print_features(Path('/home/gabro/GrapheDetectProject/cartellaTrash'),\n",
    "                                                    Path('/home/gabro/GrapheDetectProject/contours'))\n",
    "for shape in shapes:\n",
    "    print(\"Shape features:\")\n",
    "    for key in shape:\n",
    "        print(key, ' : ', shape[key])\n",
    "    print()"
   ]
  },
  {
   "cell_type": "code",
   "execution_count": null,
   "metadata": {},
   "outputs": [],
   "source": [
    "#defect analysis su immagine singola\n",
    "pathDefect = Path('/home/gabro/GrapheDetectProject/cartellaCrop/2f01675e-graphene_231617_bonds_cropped_box_0_thresh_.png')\n",
    "\n",
    "dict = Test.extract_shape_features(pathDefect)"
   ]
  }
 ],
 "metadata": {
  "kernelspec": {
   "display_name": "graphe-env",
   "language": "python",
   "name": "python3"
  },
  "language_info": {
   "codemirror_mode": {
    "name": "ipython",
    "version": 3
   },
   "file_extension": ".py",
   "mimetype": "text/x-python",
   "name": "python",
   "nbconvert_exporter": "python",
   "pygments_lexer": "ipython3",
   "version": "3.11.3"
  },
  "orig_nbformat": 4
 },
 "nbformat": 4,
 "nbformat_minor": 2
}

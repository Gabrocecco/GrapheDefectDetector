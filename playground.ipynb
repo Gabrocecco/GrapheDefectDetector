{
 "cells": [
  {
   "cell_type": "code",
   "execution_count": 1,
   "metadata": {},
   "outputs": [
    {
     "name": "stdout",
     "output_type": "stream",
     "text": [
      "Some module are missing for /home/gabro/GrapheDetectProject/defect_analysis.py: No module named 'mahotas'\n",
      "\n"
     ]
    }
   ],
   "source": [
    "from ultralytics import YOLO\n",
    "from lib.lib_utils import Utils \n",
    "from defect_analysis import Test\n",
    "from pathlib import Path\n",
    "from matplotlib import pyplot as plt\n",
    "from matplotlib import image as mpimg\n",
    "import cv2\n",
    "import torch as Torch\n",
    "import math\n",
    "import os"
   ]
  },
  {
   "cell_type": "code",
   "execution_count": 2,
   "metadata": {},
   "outputs": [
    {
     "name": "stdout",
     "output_type": "stream",
     "text": [
      "generando .png del file graphene_238951.xyz...\n",
      "1\n"
     ]
    }
   ],
   "source": [
    "#trasformazione .xyz to .png \n",
    "Utils.from_xyz_to_png(\n",
    "    Path('/home/gabro/GrapheDetectProject/data.xyz/subset_xyz'), \n",
    "    Path('/home/gabro/GrapheDetectProject/'), \n",
    "    1)"
   ]
  },
  {
   "cell_type": "code",
   "execution_count": null,
   "metadata": {},
   "outputs": [],
   "source": [
    "#divisione del dataset in train/ test/\n",
    "#inserire percorso dataset da dividere e percentuale del test \n",
    "Utils.split_dataset('/home/gabro/GrapheDetectProject/data_yolo_new/', 0.2)   "
   ]
  },
  {
   "cell_type": "code",
   "execution_count": 2,
   "metadata": {},
   "outputs": [],
   "source": [
    "# Load a model\n",
    "# model = YOLO(\"yolov8n.yaml\")  # build a new model from scratch\n",
    "model = YOLO(\"/home/gabro/GrapheDetectProject/best_100_campioni_new.pt\")  # load a pretrained model (recommended for training)\n"
   ]
  },
  {
   "cell_type": "code",
   "execution_count": null,
   "metadata": {},
   "outputs": [],
   "source": [
    "# Use the model\n",
    "# model.train(data=\"coco128.yaml\", epochs=3)  # train the model\n",
    "model.train(data=\"config_yolov8.yaml\", epochs=100)  # train the model"
   ]
  },
  {
   "cell_type": "code",
   "execution_count": null,
   "metadata": {},
   "outputs": [],
   "source": [
    "metrics = model.val()  # evaluate model performance on the validation set\n",
    "results = model(\"/home/gabro/GrapheDetectProject/b74c9ce2-graphene_218641_bonds.png\")  # predict on an image\n",
    "success = model.export(format=\"onnx\")  # export the model to ONNX format"
   ]
  },
  {
   "cell_type": "code",
   "execution_count": null,
   "metadata": {},
   "outputs": [],
   "source": [
    "#fa l'inferenza su una cartella di campioni con yolo salvandone le box su un'altra cartella\n",
    "Utils.crop_from_folder(\"/home/gabro/GrapheDetectProject/immProvaInferenza\", \"/home/gabro/GrapheDetectProject/cartellaCrop\", model)\n",
    "#per ogni box prodotta prima ne crea una copia in cui ne si enfatizza l'area \n",
    "Utils.from_crops_to_thresh('/home/gabro/GrapheDetectProject/cartellaCrop/')\n",
    "\n"
   ]
  },
  {
   "attachments": {},
   "cell_type": "markdown",
   "metadata": {},
   "source": [
    "Inferenza e trasformazione boxes in immagini singole "
   ]
  },
  {
   "cell_type": "code",
   "execution_count": null,
   "metadata": {},
   "outputs": [],
   "source": [
    "#fa inferenza su una cartella di immagini e ne salva i crop su runs/detect/predict#/crop/defect\n",
    "pathCartellaImm = \"/home/gabro/GrapheDetectProject/immProvaInferenza/\"\n",
    "results = model.predict(pathCartellaImm, save_crop = True')\n",
    "\n"
   ]
  },
  {
   "cell_type": "code",
   "execution_count": 2,
   "metadata": {},
   "outputs": [
    {
     "ename": "NameError",
     "evalue": "name 'contrast_enhancement' is not defined",
     "output_type": "error",
     "traceback": [
      "\u001b[0;31m---------------------------------------------------------------------------\u001b[0m",
      "\u001b[0;31mNameError\u001b[0m                                 Traceback (most recent call last)",
      "Cell \u001b[0;32mIn[2], line 4\u001b[0m\n\u001b[1;32m      1\u001b[0m \u001b[39m#defect analysis \u001b[39;00m\n\u001b[1;32m      2\u001b[0m pathDefect \u001b[39m=\u001b[39m Path(\u001b[39m'\u001b[39m\u001b[39m/home/gabro/GrapheDetectProject/cartellaCrop/2f01675e-graphene_231617_bonds_cropped_box_0_thresh_.png\u001b[39m\u001b[39m'\u001b[39m)\n\u001b[0;32m----> 4\u001b[0m \u001b[39mdict\u001b[39m \u001b[39m=\u001b[39m Test\u001b[39m.\u001b[39;49mextract_shape_features(pathDefect)\n",
      "File \u001b[0;32m~/GrapheDetectProject/defect_analysis.py:211\u001b[0m, in \u001b[0;36mTest.extract_shape_features\u001b[0;34m(image, mask, dest_path)\u001b[0m\n\u001b[1;32m    209\u001b[0m \u001b[39melse\u001b[39;00m:\n\u001b[1;32m    210\u001b[0m     img \u001b[39m=\u001b[39m image\u001b[39m.\u001b[39mcopy()\n\u001b[0;32m--> 211\u001b[0m img \u001b[39m=\u001b[39m contrast_enhancement(img)  \u001b[39m# per migliorare la detection dei contorni\u001b[39;00m\n\u001b[1;32m    213\u001b[0m \u001b[39mif\u001b[39;00m mask \u001b[39mis\u001b[39;00m \u001b[39mnot\u001b[39;00m \u001b[39mNone\u001b[39;00m:\n\u001b[1;32m    214\u001b[0m     \u001b[39mif\u001b[39;00m \u001b[39misinstance\u001b[39m(mask, Path):\n",
      "\u001b[0;31mNameError\u001b[0m: name 'contrast_enhancement' is not defined"
     ]
    }
   ],
   "source": [
    "#defect analysis \n",
    "pathDefect = Path('/home/gabro/GrapheDetectProject/cartellaCrop/2f01675e-graphene_231617_bonds_cropped_box_0_thresh_.png')\n",
    "\n",
    "dict = Test.extract_shape_features(pathDefect)\n"
   ]
  }
 ],
 "metadata": {
  "kernelspec": {
   "display_name": "graphe-env",
   "language": "python",
   "name": "python3"
  },
  "language_info": {
   "codemirror_mode": {
    "name": "ipython",
    "version": 3
   },
   "file_extension": ".py",
   "mimetype": "text/x-python",
   "name": "python",
   "nbconvert_exporter": "python",
   "pygments_lexer": "ipython3",
   "version": "3.11.3"
  },
  "orig_nbformat": 4
 },
 "nbformat": 4,
 "nbformat_minor": 2
}
